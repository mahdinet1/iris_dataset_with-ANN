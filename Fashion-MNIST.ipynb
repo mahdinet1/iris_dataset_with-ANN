{
  "nbformat": 4,
  "nbformat_minor": 0,
  "metadata": {
    "colab": {
      "name": "Untitled3.ipynb",
      "provenance": [],
      "authorship_tag": "ABX9TyOATXyCumrI+b1PffhIkYTG",
      "include_colab_link": true
    },
    "kernelspec": {
      "name": "python3",
      "display_name": "Python 3"
    },
    "language_info": {
      "name": "python"
    },
    "accelerator": "GPU"
  },
  "cells": [
    {
      "cell_type": "markdown",
      "metadata": {
        "id": "view-in-github",
        "colab_type": "text"
      },
      "source": [
        "<a href=\"https://colab.research.google.com/github/mahdinet1/iris_dataset_with-ANN/blob/main/Untitled3.ipynb\" target=\"_parent\"><img src=\"https://colab.research.google.com/assets/colab-badge.svg\" alt=\"Open In Colab\"/></a>"
      ]
    },
    {
      "cell_type": "code",
      "execution_count": 1,
      "metadata": {
        "id": "YJjO-Nv9oE48"
      },
      "outputs": [],
      "source": [
        "from tensorflow import keras\n",
        "from keras.models import Sequential\n",
        "from keras.layers import Dense,Dropout,Activation,Flatten\n",
        "import numpy as np\n",
        "import matplotlib.pyplot as plt\n",
        "%matplotlib inline"
      ]
    },
    {
      "cell_type": "code",
      "source": [
        "fashion_mnist = keras.datasets.fashion_mnist\n",
        "(train_images, train_labels), (test_images, test_labels) = fashion_mnist.load_data()"
      ],
      "metadata": {
        "id": "tu-93fNto-zE"
      },
      "execution_count": 2,
      "outputs": []
    },
    {
      "cell_type": "code",
      "source": [
        ""
      ],
      "metadata": {
        "id": "j27m1fMOxWwD"
      },
      "execution_count": 2,
      "outputs": []
    },
    {
      "cell_type": "code",
      "source": [
        "print('classes :',np.unique(train_labels))\n",
        "labels = {\n",
        "    0: \"T-shirt/top\",\n",
        "    1: \"Trouser\",\n",
        "    2: \"Pullover\",\n",
        "    3: \"Dress\",\n",
        "    4: \"Coat\",\n",
        "    5: \"Sandal\",\n",
        "    6: \"Shirt\",\n",
        "    7: \"Sneaker\",\n",
        "    8: \"Bag\",\n",
        "    9: \"Ankle boot\"\n",
        "}"
      ],
      "metadata": {
        "colab": {
          "base_uri": "https://localhost:8080/"
        },
        "id": "1pd75GnwpJYk",
        "outputId": "d6e0fc45-1054-4498-df3a-64d195fbd8c0"
      },
      "execution_count": 3,
      "outputs": [
        {
          "output_type": "stream",
          "name": "stdout",
          "text": [
            "classes : [0 1 2 3 4 5 6 7 8 9]\n"
          ]
        }
      ]
    },
    {
      "cell_type": "code",
      "source": [
        "plt.figure(figsize=(6,7))\n",
        "for i in range(9):\n",
        "  plt.subplot(3,3,1+i)\n",
        "  plt.title(labels[train_labels[i]])\n",
        "  plt.imshow(train_images[i],cmap=plt.get_cmap('gray'))\n",
        "\n",
        "plt.show()"
      ],
      "metadata": {
        "colab": {
          "base_uri": "https://localhost:8080/",
          "height": 431
        },
        "id": "jJDqGB3CsDBu",
        "outputId": "b57b75dd-b67f-4272-a990-76ac554361e3"
      },
      "execution_count": 4,
      "outputs": [
        {
          "output_type": "display_data",
          "data": {
            "image/png": "[encoded data removed]",
            "text/plain": [
              "<Figure size 432x504 with 9 Axes>"
            ]
          },
          "metadata": {
            "needs_background": "light"
          }
        }
      ]
    },
    {
      "cell_type": "code",
      "source": [
        "train_images = train_images.astype('float32') / 255\n",
        "test_images = test_images.astype('float32') / 255"
      ],
      "metadata": {
        "id": "qHf3WZqatTEE"
      },
      "execution_count": 5,
      "outputs": []
    },
    {
      "cell_type": "code",
      "source": [
        "model = Sequential()\n",
        "model.add(Flatten())\n",
        "model.add(Dense(512, activation=\"relu\"))\n",
        "model.add(Dropout(0.3))\n",
        "model.add(Dense(512, activation=\"relu\"))\n",
        "model.add(Dropout(0.3))\n",
        "model.add(Dense(512, activation=\"relu\"))\n",
        "model.add(Dropout(0.3))\n",
        "model.add(Dense(10, activation=\"softmax\"))\n",
        "model.compile(optimizer=\"adam\", loss=\"sparse_categorical_crossentropy\", metrics=[\"accuracy\"])"
      ],
      "metadata": {
        "id": "yOApnq26vZa0"
      },
      "execution_count": 6,
      "outputs": []
    },
    {
      "cell_type": "code",
      "source": [
        "history = model.fit(train_images, train_labels, epochs=25, batch_size=32, validation_data=(test_images, test_labels), shuffle=True)"
      ],
      "metadata": {
        "colab": {
          "base_uri": "https://localhost:8080/"
        },
        "id": "yxrOJp9nwrpb",
        "outputId": "40c098c5-825b-4a78-bcf7-42ce20cf9891"
      },
      "execution_count": 7,
      "outputs": [
        {
          "output_type": "stream",
          "name": "stdout",
          "text": [
            "Epoch 1/25\n",
            "1875/1875 [==============================] - 14s 6ms/step - loss: 0.5655 - accuracy: 0.7940 - val_loss: 0.4342 - val_accuracy: 0.8354\n",
            "Epoch 2/25\n",
            "1875/1875 [==============================] - 9s 5ms/step - loss: 0.4436 - accuracy: 0.8398 - val_loss: 0.4046 - val_accuracy: 0.8524\n",
            "Epoch 3/25\n",
            "1875/1875 [==============================] - 8s 5ms/step - loss: 0.4114 - accuracy: 0.8511 - val_loss: 0.3874 - val_accuracy: 0.8646\n",
            "Epoch 4/25\n",
            "1875/1875 [==============================] - 8s 5ms/step - loss: 0.3926 - accuracy: 0.8571 - val_loss: 0.3938 - val_accuracy: 0.8572\n",
            "Epoch 5/25\n",
            "1875/1875 [==============================] - 8s 5ms/step - loss: 0.3800 - accuracy: 0.8638 - val_loss: 0.4138 - val_accuracy: 0.8483\n",
            "Epoch 6/25\n",
            "1875/1875 [==============================] - 9s 5ms/step - loss: 0.3687 - accuracy: 0.8666 - val_loss: 0.3741 - val_accuracy: 0.8652\n",
            "Epoch 7/25\n",
            "1875/1875 [==============================] - 9s 5ms/step - loss: 0.3568 - accuracy: 0.8708 - val_loss: 0.3700 - val_accuracy: 0.8710\n",
            "Epoch 8/25\n",
            "1875/1875 [==============================] - 9s 5ms/step - loss: 0.3545 - accuracy: 0.8712 - val_loss: 0.3620 - val_accuracy: 0.8726\n",
            "Epoch 9/25\n",
            "1875/1875 [==============================] - 9s 5ms/step - loss: 0.3486 - accuracy: 0.8739 - val_loss: 0.3461 - val_accuracy: 0.8701\n",
            "Epoch 10/25\n",
            "1875/1875 [==============================] - 9s 5ms/step - loss: 0.3409 - accuracy: 0.8755 - val_loss: 0.3676 - val_accuracy: 0.8700\n",
            "Epoch 11/25\n",
            "1875/1875 [==============================] - 9s 5ms/step - loss: 0.3385 - accuracy: 0.8795 - val_loss: 0.3559 - val_accuracy: 0.8726\n",
            "Epoch 12/25\n",
            "1875/1875 [==============================] - 9s 5ms/step - loss: 0.3305 - accuracy: 0.8819 - val_loss: 0.3549 - val_accuracy: 0.8793\n",
            "Epoch 13/25\n",
            "1875/1875 [==============================] - 9s 5ms/step - loss: 0.3305 - accuracy: 0.8813 - val_loss: 0.3506 - val_accuracy: 0.8767\n",
            "Epoch 14/25\n",
            "1875/1875 [==============================] - 9s 5ms/step - loss: 0.3256 - accuracy: 0.8839 - val_loss: 0.3500 - val_accuracy: 0.8790\n",
            "Epoch 15/25\n",
            "1875/1875 [==============================] - 9s 5ms/step - loss: 0.3229 - accuracy: 0.8838 - val_loss: 0.3614 - val_accuracy: 0.8719\n",
            "Epoch 16/25\n",
            "1875/1875 [==============================] - 8s 5ms/step - loss: 0.3193 - accuracy: 0.8849 - val_loss: 0.3521 - val_accuracy: 0.8775\n",
            "Epoch 17/25\n",
            "1875/1875 [==============================] - 9s 5ms/step - loss: 0.3194 - accuracy: 0.8862 - val_loss: 0.3400 - val_accuracy: 0.8790\n",
            "Epoch 18/25\n",
            "1875/1875 [==============================] - 8s 5ms/step - loss: 0.3205 - accuracy: 0.8856 - val_loss: 0.3379 - val_accuracy: 0.8825\n",
            "Epoch 19/25\n",
            "1875/1875 [==============================] - 9s 5ms/step - loss: 0.3131 - accuracy: 0.8866 - val_loss: 0.3511 - val_accuracy: 0.8787\n",
            "Epoch 20/25\n",
            "1875/1875 [==============================] - 9s 5ms/step - loss: 0.3098 - accuracy: 0.8882 - val_loss: 0.3481 - val_accuracy: 0.8812\n",
            "Epoch 21/25\n",
            "1875/1875 [==============================] - 9s 5ms/step - loss: 0.3064 - accuracy: 0.8895 - val_loss: 0.3411 - val_accuracy: 0.8823\n",
            "Epoch 22/25\n",
            "1875/1875 [==============================] - 9s 5ms/step - loss: 0.3070 - accuracy: 0.8896 - val_loss: 0.3494 - val_accuracy: 0.8827\n",
            "Epoch 23/25\n",
            "1875/1875 [==============================] - 9s 5ms/step - loss: 0.3040 - accuracy: 0.8902 - val_loss: 0.3508 - val_accuracy: 0.8819\n",
            "Epoch 24/25\n",
            "1875/1875 [==============================] - 9s 5ms/step - loss: 0.3054 - accuracy: 0.8894 - val_loss: 0.3356 - val_accuracy: 0.8789\n",
            "Epoch 25/25\n",
            "1875/1875 [==============================] - 9s 5ms/step - loss: 0.2985 - accuracy: 0.8919 - val_loss: 0.3477 - val_accuracy: 0.8863\n"
          ]
        }
      ]
    },
    {
      "cell_type": "code",
      "source": [
        "history.history.keys()"
      ],
      "metadata": {
        "colab": {
          "base_uri": "https://localhost:8080/"
        },
        "id": "AvuRh8_kzv0n",
        "outputId": "a024828f-5338-4c00-c805-1e989142a6ee"
      },
      "execution_count": 12,
      "outputs": [
        {
          "output_type": "execute_result",
          "data": {
            "text/plain": [
              "dict_keys(['loss', 'accuracy', 'val_loss', 'val_accuracy'])"
            ]
          },
          "metadata": {},
          "execution_count": 12
        }
      ]
    },
    {
      "cell_type": "code",
      "source": [
        "plt.plot(history.history['accuracy'], label='Train')\n",
        "plt.plot(history.history['val_accuracy'], label='Test')"
      ],
      "metadata": {
        "colab": {
          "base_uri": "https://localhost:8080/",
          "height": 282
        },
        "id": "DPcdkvvPzRgz",
        "outputId": "f2186e0f-af99-4d6e-ea67-9788acd00b15"
      },
      "execution_count": 13,
      "outputs": [
        {
          "output_type": "execute_result",
          "data": {
            "text/plain": [
              "[<matplotlib.lines.Line2D at 0x7f0600420c10>]"
            ]
          },
          "metadata": {},
          "execution_count": 13
        },
        {
          "output_type": "display_data",
          "data": {
            "image/png": "[encoded data removed]",
            "text/plain": [
              "<Figure size 432x288 with 1 Axes>"
            ]
          },
          "metadata": {
            "needs_background": "light"
          }
        }
      ]
    },
    {
      "cell_type": "code",
      "source": [
        "plt.plot(history.history['loss'], label='Train')\n",
        "plt.plot(history.history['val_loss'], label='Test')"
      ],
      "metadata": {
        "colab": {
          "base_uri": "https://localhost:8080/",
          "height": 282
        },
        "id": "A36A9Xvpz_uk",
        "outputId": "46368dfd-022f-4393-9cc3-5226bb4faaf6"
      },
      "execution_count": 14,
      "outputs": [
        {
          "output_type": "execute_result",
          "data": {
            "text/plain": [
              "[<matplotlib.lines.Line2D at 0x7f060039c750>]"
            ]
          },
          "metadata": {},
          "execution_count": 14
        },
        {
          "output_type": "display_data",
          "data": {
            "image/png": "[encoded data removed]",
            "text/plain": [
              "<Figure size 432x288 with 1 Axes>"
            ]
          },
          "metadata": {
            "needs_background": "light"
          }
        }
      ]
    },
    {
      "cell_type": "code",
      "source": [
        "%tensorboard --logdir logs/scalars"
      ],
      "metadata": {
        "colab": {
          "base_uri": "https://localhost:8080/"
        },
        "id": "wuD4OBXK0Vfz",
        "outputId": "f92ffa3e-aa29-46b2-b487-b00d1d272325"
      },
      "execution_count": 15,
      "outputs": [
        {
          "output_type": "stream",
          "name": "stderr",
          "text": [
            "UsageError: Line magic function `%tensorboard` not found.\n"
          ]
        }
      ]
    }
  ]
}
