{
  "cells": [
    {
      "cell_type": "markdown",
      "metadata": {
        "id": "lgaJLuwIgQPJ"
      },
      "source": [
        "<center><div style=\"direction:rtl;font-family:B Lotus, B Nazanin, Tahoma\">به نام خدا</div></center>\n",
        "\n",
        "<h1><center><div style=\"direction:rtl;font-family:B Lotus, B Nazanin, Tahoma\">تمرین عملی 1: طبقه بندی با شبکه های تمام متصل روی مجموعه داده IRIS</div></center></h1>"
      ]
    },
    {
      "cell_type": "markdown",
      "metadata": {
        "id": "cwT1-OxegQPT"
      },
      "source": [
        "## <div style=\"direction:rtl;text-align:right;font-family:B Lotus, B Nazanin, Tahoma\">صورت مساله</div>\n",
        "\n",
        "\n",
        "<div style=\"direction:rtl;text-align:right;font-family:Tahoma\">\n",
        "در اولین جلسه کارگاه طبقه بندی با شبکه های تمام متصل را دیدیم.\n",
        "<br>\n",
        "توصیه می‌شود حتما نوت بوک‌های زیر را قبل از این تمرین مرور کنید:\n",
        "</div>\n",
        "\n",
        "[04_a Gentle Introduction to Keras - Simple neural network(mlp).ipynb](https://nbviewer.jupyter.org/github/alireza-akhavan/SRU-deeplearning-workshop/blob/master/04_a%20Gentle%20Introduction%20to%20Keras%20-%20Simple%20neural%20network%28mlp%29.ipynb)\n",
        "\n",
        "[05_Dropout.ipynb](https://nbviewer.jupyter.org/github/alireza-akhavan/SRU-deeplearning-workshop/blob/master/05_Dropout.ipynb)\n",
        "\n",
        "<div style=\"direction:rtl;text-align:right;font-family:Tahoma\">\n",
        "در این جلسه با داده های تصویری آشنا شدیم. اما در این تمرین برای اینکه بدانیم کاربرد این مباحث در مسائل غیر تصویری نیز هست  از مجموعه داده ی ساختار یافتهiris  شامل 4 ویژگی برای طول و عرض کاسبرگ و گلبرگ استفاده خواهیم کرد که بتوانیم بر اساس این ویژگی ها نوع گل را از 3 کلاس متفاوت تشخیص دهیم.\n",
        "</div>"
      ]
    },
    {
      "cell_type": "markdown",
      "metadata": {
        "id": "JQOc6Dh1gQPV"
      },
      "source": [
        "## <div style=\"direction:rtl;text-align:right;font-family:B Lotus, B Nazanin, Tahoma\">لود کتابخانه های مورد نیاز </div>\n",
        "<div style=\"direction:rtl;text-align:right;font-family:Tahoma\">\n",
        "کتابخانه های مورد نیاز این تمرین لود شده اند\n",
        "<br>\n",
        "در صورت نیاز میتوانید کتابخانه های بیشتری لود کنید:\n",
        "</div>"
      ]
    },
    {
      "cell_type": "code",
      "execution_count": 31,
      "metadata": {
        "id": "G-Ht0jPcgQPW"
      },
      "outputs": [],
      "source": [
        "import numpy as np\n",
        "from tensorflow import keras\n",
        "from sklearn.datasets import load_iris\n",
        "from sklearn.model_selection import train_test_split\n",
        "from keras.models import Sequential\n",
        "from keras.layers import Dense, Dropout\n",
        "from tensorflow.keras.optimizers import Adam"
      ]
    },
    {
      "cell_type": "markdown",
      "metadata": {
        "id": "44BW2-5tgQPa"
      },
      "source": [
        "<div style=\"direction:rtl;text-align:right;font-family:Tahoma\">\n",
        "در این تمرین میخواهیم از مجموعه داده iris استفاده کنیم.\n",
        "<br>\n",
        "توضیحات این مجموعه داده در سایت آن موجود است:\n",
        "</div>\n",
        "\n",
        "https://archive.ics.uci.edu/ml/datasets/iris\n",
        "\n",
        "\n",
        "<div style=\"direction:rtl;text-align:right;font-family:Tahoma\">\n",
        "ویژگی ها و کلاس های این مجموعه داده به شرح زیر است:\n",
        "</div>\n",
        "\n",
        "Attribute Information:\n",
        "\n",
        "1. sepal length in cm\n",
        "2. sepal width in cm\n",
        "3. petal length in cm\n",
        "4. petal width in cm\n",
        "\n",
        "class:\n",
        "\n",
        "    Iris Setosa\n",
        "    Iris Versicolour\n",
        "    Iris Virginica\n",
        "\n",
        "<div style=\"direction:rtl;text-align:right;font-family:Tahoma\">\n",
        "این دیتاست در کتابخانه sklearn موجود است\n",
        "<br>\n",
        "در قطعه کد زیر ویژگی ها را در x و برچسب یا labelهای متناظر را در y لود شده است.\n",
        "</div>"
      ]
    },
    {
      "cell_type": "code",
      "execution_count": 32,
      "metadata": {
        "id": "jKkcjhFpgQPd"
      },
      "outputs": [],
      "source": [
        "iris_data = load_iris() # load the iris dataset\n",
        "x = iris_data.data\n",
        "y = iris_data.target.reshape(-1, 1) # Convert data to a single column"
      ]
    },
    {
      "cell_type": "markdown",
      "metadata": {
        "id": "ZYBvumAMgQPe"
      },
      "source": [
        "# <div style=\"direction:rtl;text-align:right;font-family:B Lotus, B Nazanin, Tahoma\">سوال 1:</div>\n",
        "<div style=\"direction:rtl;text-align:right;font-family:Tahoma\">\n",
        "برچسب یا label های ما در حال حاضر عددی است.\n",
        "<br>\n",
        "این اعداد 0 تا 2 هستند و به عبارتی 3 حالت مختلف دارند.\n",
        "<br>\n",
        "این برچسب ها را به فرمت one-hot تبدیل کنید و خروجی را مجدد در y بریزید.\n",
        "\n",
        "<br>\n",
        "<b>راهنمایی: </b>\n",
        "از تابع keras.utils.to_categorical استفاده کنید.\n",
        "</div>"
      ]
    },
    {
      "cell_type": "code",
      "execution_count": 33,
      "metadata": {
        "id": "w6fX9kLtgQPf"
      },
      "outputs": [],
      "source": [
        "y = keras.utils.to_categorical(y,num_classes=3)"
      ]
    },
    {
      "cell_type": "markdown",
      "metadata": {
        "id": "snaUZQ1igQPg"
      },
      "source": [
        "<div style=\"direction:rtl;text-align:right;font-family:Tahoma\">\n",
        "در زیر داده ها  به داده های test و train تقسیم شده است:\n",
        "</div>"
      ]
    },
    {
      "cell_type": "code",
      "execution_count": 34,
      "metadata": {
        "id": "8mhcRoNsgQPi"
      },
      "outputs": [],
      "source": [
        "# Split the data for training and testing\n",
        "train_x, test_x, train_y, test_y = train_test_split(x, y, test_size=0.20)"
      ]
    },
    {
      "cell_type": "code",
      "source": [
        "x.shape"
      ],
      "metadata": {
        "id": "iwOA6-HfiH5w",
        "outputId": "80fb1f8a-bde7-48e9-c1ac-f34e82f079e7",
        "colab": {
          "base_uri": "https://localhost:8080/"
        }
      },
      "execution_count": 35,
      "outputs": [
        {
          "output_type": "execute_result",
          "data": {
            "text/plain": [
              "(150, 4)"
            ]
          },
          "metadata": {},
          "execution_count": 35
        }
      ]
    },
    {
      "cell_type": "markdown",
      "metadata": {
        "id": "dE_PqAiQgQPk"
      },
      "source": [
        "# <div style=\"direction:rtl;text-align:right;font-family:B Lotus, B Nazanin, Tahoma\">سوال 2:</div>\n",
        "<div style=\"direction:rtl;text-align:right;font-family:Tahoma\">\n",
        "یک شبکه با دو hidden-layer در هر لایه 10 نوران و تابع فعالیت relu بسازید. یک لایه Dropout با نرخ 0.5 در لایه آخر ماقبل softmax نیز اضافه کنید.\n",
        "</div>"
      ]
    },
    {
      "cell_type": "code",
      "execution_count": 36,
      "metadata": {
        "id": "I8WftCpNgQPl"
      },
      "outputs": [],
      "source": [
        "# Build the model\n",
        "model = Sequential()\n",
        "model.add(Dense(10,activation=\"relu\",input_dim=4))\n",
        "model.add(Dense(10,activation=\"relu\"))\n",
        "model.add(Dropout(0.5))\n",
        "model.add(Dense(3,activation=\"softmax\"))"
      ]
    },
    {
      "cell_type": "code",
      "execution_count": 37,
      "metadata": {
        "id": "wOahXyePgQPl",
        "outputId": "87b4b1e7-0881-4e39-f8cb-281e27fa99fe",
        "colab": {
          "base_uri": "https://localhost:8080/"
        }
      },
      "outputs": [
        {
          "output_type": "stream",
          "name": "stdout",
          "text": [
            "Model: \"sequential_6\"\n",
            "_________________________________________________________________\n",
            " Layer (type)                Output Shape              Param #   \n",
            "=================================================================\n",
            " dense_17 (Dense)            (None, 10)                50        \n",
            "                                                                 \n",
            " dense_18 (Dense)            (None, 10)                110       \n",
            "                                                                 \n",
            " dropout_5 (Dropout)         (None, 10)                0         \n",
            "                                                                 \n",
            " dense_19 (Dense)            (None, 3)                 33        \n",
            "                                                                 \n",
            "=================================================================\n",
            "Total params: 193\n",
            "Trainable params: 193\n",
            "Non-trainable params: 0\n",
            "_________________________________________________________________\n"
          ]
        }
      ],
      "source": [
        "model.summary()"
      ]
    },
    {
      "cell_type": "markdown",
      "metadata": {
        "id": "l5wLSj1YgQPm"
      },
      "source": [
        "<div style=\"direction:rtl;text-align:right;font-family:Tahoma\">در زیر مدل کامپایل شده است.</div>"
      ]
    },
    {
      "cell_type": "code",
      "execution_count": 38,
      "metadata": {
        "id": "_fqLzQ-IgQPn",
        "outputId": "b2a81a7e-7b3a-4b3f-8ff6-9c972a06a4ef",
        "colab": {
          "base_uri": "https://localhost:8080/"
        }
      },
      "outputs": [
        {
          "output_type": "stream",
          "name": "stderr",
          "text": [
            "/usr/local/lib/python3.7/dist-packages/keras/optimizer_v2/adam.py:105: UserWarning: The `lr` argument is deprecated, use `learning_rate` instead.\n",
            "  super(Adam, self).__init__(name, **kwargs)\n"
          ]
        }
      ],
      "source": [
        "# Adam optimizer with learning rate of 0.001\n",
        "optimizer = Adam(lr=0.001)\n",
        "model.compile(optimizer, loss='categorical_crossentropy', metrics=['accuracy'])"
      ]
    },
    {
      "cell_type": "markdown",
      "metadata": {
        "id": "bir0HEpfgQPn"
      },
      "source": [
        "# <div style=\"direction:rtl;text-align:right;font-family:B Lotus, B Nazanin, Tahoma\">سوال 3:</div>\n",
        "<div style=\"direction:rtl;text-align:right;font-family:Tahoma\">\n",
        "مدل را با  batch_size=5 و تعداد 200 ایپاک آموزش دهید.\n",
        "<br>\n",
        "<b>راهنمایی: </b>\n",
        "از تابع model.fit استفاده کنید.\n",
        "</div>"
      ]
    },
    {
      "cell_type": "code",
      "execution_count": 39,
      "metadata": {
        "id": "Hl4AI3zGgQPo",
        "outputId": "e2f4325c-fb76-4236-ad9c-61702945fafe",
        "colab": {
          "base_uri": "https://localhost:8080/"
        }
      },
      "outputs": [
        {
          "output_type": "stream",
          "name": "stdout",
          "text": [
            "Epoch 1/200\n",
            "24/24 [==============================] - 3s 3ms/step - loss: 1.7028 - accuracy: 0.3750\n",
            "Epoch 2/200\n",
            "24/24 [==============================] - 0s 3ms/step - loss: 1.3689 - accuracy: 0.4250\n",
            "Epoch 3/200\n",
            "24/24 [==============================] - 0s 4ms/step - loss: 1.2337 - accuracy: 0.4500\n",
            "Epoch 4/200\n",
            "24/24 [==============================] - 0s 4ms/step - loss: 1.2109 - accuracy: 0.4333\n",
            "Epoch 5/200\n",
            "24/24 [==============================] - 0s 3ms/step - loss: 1.0324 - accuracy: 0.4917\n",
            "Epoch 6/200\n",
            "24/24 [==============================] - 0s 3ms/step - loss: 1.0309 - accuracy: 0.5417\n",
            "Epoch 7/200\n",
            "24/24 [==============================] - 0s 3ms/step - loss: 0.9575 - accuracy: 0.5750\n",
            "Epoch 8/200\n",
            "24/24 [==============================] - 0s 4ms/step - loss: 0.9394 - accuracy: 0.5417\n",
            "Epoch 9/200\n",
            "24/24 [==============================] - 0s 3ms/step - loss: 0.9316 - accuracy: 0.5833\n",
            "Epoch 10/200\n",
            "24/24 [==============================] - 0s 3ms/step - loss: 0.8696 - accuracy: 0.6000\n",
            "Epoch 11/200\n",
            "24/24 [==============================] - 0s 3ms/step - loss: 0.7799 - accuracy: 0.7083\n",
            "Epoch 12/200\n",
            "24/24 [==============================] - 0s 3ms/step - loss: 0.7861 - accuracy: 0.6167\n",
            "Epoch 13/200\n",
            "24/24 [==============================] - 0s 3ms/step - loss: 0.7229 - accuracy: 0.6917\n",
            "Epoch 14/200\n",
            "24/24 [==============================] - 0s 4ms/step - loss: 0.7035 - accuracy: 0.7167\n",
            "Epoch 15/200\n",
            "24/24 [==============================] - 0s 4ms/step - loss: 0.6648 - accuracy: 0.7417\n",
            "Epoch 16/200\n",
            "24/24 [==============================] - 0s 3ms/step - loss: 0.7624 - accuracy: 0.6667\n",
            "Epoch 17/200\n",
            "24/24 [==============================] - 0s 3ms/step - loss: 0.7656 - accuracy: 0.6750\n",
            "Epoch 18/200\n",
            "24/24 [==============================] - 0s 3ms/step - loss: 0.6661 - accuracy: 0.7667\n",
            "Epoch 19/200\n",
            "24/24 [==============================] - 0s 4ms/step - loss: 0.6494 - accuracy: 0.7167\n",
            "Epoch 20/200\n",
            "24/24 [==============================] - 0s 3ms/step - loss: 0.6662 - accuracy: 0.7667\n",
            "Epoch 21/200\n",
            "24/24 [==============================] - 0s 3ms/step - loss: 0.6142 - accuracy: 0.7583\n",
            "Epoch 22/200\n",
            "24/24 [==============================] - 0s 3ms/step - loss: 0.5709 - accuracy: 0.7250\n",
            "Epoch 23/200\n",
            "24/24 [==============================] - 0s 3ms/step - loss: 0.5870 - accuracy: 0.7250\n",
            "Epoch 24/200\n",
            "24/24 [==============================] - 0s 3ms/step - loss: 0.5353 - accuracy: 0.7917\n",
            "Epoch 25/200\n",
            "24/24 [==============================] - 0s 4ms/step - loss: 0.5304 - accuracy: 0.8000\n",
            "Epoch 26/200\n",
            "24/24 [==============================] - 0s 4ms/step - loss: 0.4966 - accuracy: 0.8000\n",
            "Epoch 27/200\n",
            "24/24 [==============================] - 0s 3ms/step - loss: 0.5052 - accuracy: 0.7917\n",
            "Epoch 28/200\n",
            "24/24 [==============================] - 0s 3ms/step - loss: 0.4843 - accuracy: 0.8333\n",
            "Epoch 29/200\n",
            "24/24 [==============================] - 0s 4ms/step - loss: 0.4910 - accuracy: 0.7833\n",
            "Epoch 30/200\n",
            "24/24 [==============================] - 0s 3ms/step - loss: 0.4527 - accuracy: 0.8333\n",
            "Epoch 31/200\n",
            "24/24 [==============================] - 0s 3ms/step - loss: 0.4703 - accuracy: 0.8250\n",
            "Epoch 32/200\n",
            "24/24 [==============================] - 0s 3ms/step - loss: 0.4925 - accuracy: 0.8000\n",
            "Epoch 33/200\n",
            "24/24 [==============================] - 0s 3ms/step - loss: 0.4983 - accuracy: 0.8333\n",
            "Epoch 34/200\n",
            "24/24 [==============================] - 0s 3ms/step - loss: 0.4476 - accuracy: 0.8417\n",
            "Epoch 35/200\n",
            "24/24 [==============================] - 0s 3ms/step - loss: 0.4390 - accuracy: 0.8250\n",
            "Epoch 36/200\n",
            "24/24 [==============================] - 0s 4ms/step - loss: 0.4353 - accuracy: 0.8417\n",
            "Epoch 37/200\n",
            "24/24 [==============================] - 0s 3ms/step - loss: 0.4414 - accuracy: 0.8333\n",
            "Epoch 38/200\n",
            "24/24 [==============================] - 0s 4ms/step - loss: 0.4268 - accuracy: 0.8667\n",
            "Epoch 39/200\n",
            "24/24 [==============================] - 0s 3ms/step - loss: 0.4122 - accuracy: 0.8000\n",
            "Epoch 40/200\n",
            "24/24 [==============================] - 0s 4ms/step - loss: 0.4731 - accuracy: 0.8333\n",
            "Epoch 41/200\n",
            "24/24 [==============================] - 0s 3ms/step - loss: 0.3828 - accuracy: 0.8333\n",
            "Epoch 42/200\n",
            "24/24 [==============================] - 0s 3ms/step - loss: 0.3833 - accuracy: 0.8250\n",
            "Epoch 43/200\n",
            "24/24 [==============================] - 0s 3ms/step - loss: 0.4177 - accuracy: 0.7917\n",
            "Epoch 44/200\n",
            "24/24 [==============================] - 0s 4ms/step - loss: 0.3757 - accuracy: 0.8833\n",
            "Epoch 45/200\n",
            "24/24 [==============================] - 0s 3ms/step - loss: 0.4330 - accuracy: 0.7583\n",
            "Epoch 46/200\n",
            "24/24 [==============================] - 0s 3ms/step - loss: 0.3790 - accuracy: 0.8500\n",
            "Epoch 47/200\n",
            "24/24 [==============================] - 0s 4ms/step - loss: 0.4106 - accuracy: 0.8333\n",
            "Epoch 48/200\n",
            "24/24 [==============================] - 0s 4ms/step - loss: 0.4006 - accuracy: 0.9083\n",
            "Epoch 49/200\n",
            "24/24 [==============================] - 0s 3ms/step - loss: 0.4098 - accuracy: 0.8417\n",
            "Epoch 50/200\n",
            "24/24 [==============================] - 0s 3ms/step - loss: 0.3677 - accuracy: 0.8583\n",
            "Epoch 51/200\n",
            "24/24 [==============================] - 0s 4ms/step - loss: 0.4167 - accuracy: 0.8417\n",
            "Epoch 52/200\n",
            "24/24 [==============================] - 0s 3ms/step - loss: 0.3609 - accuracy: 0.8500\n",
            "Epoch 53/200\n",
            "24/24 [==============================] - 0s 3ms/step - loss: 0.3590 - accuracy: 0.8917\n",
            "Epoch 54/200\n",
            "24/24 [==============================] - 0s 3ms/step - loss: 0.3631 - accuracy: 0.8750\n",
            "Epoch 55/200\n",
            "24/24 [==============================] - 0s 4ms/step - loss: 0.3599 - accuracy: 0.9167\n",
            "Epoch 56/200\n",
            "24/24 [==============================] - 0s 3ms/step - loss: 0.3882 - accuracy: 0.8750\n",
            "Epoch 57/200\n",
            "24/24 [==============================] - 0s 3ms/step - loss: 0.3635 - accuracy: 0.8583\n",
            "Epoch 58/200\n",
            "24/24 [==============================] - 0s 4ms/step - loss: 0.3237 - accuracy: 0.9083\n",
            "Epoch 59/200\n",
            "24/24 [==============================] - 0s 3ms/step - loss: 0.3580 - accuracy: 0.8750\n",
            "Epoch 60/200\n",
            "24/24 [==============================] - 0s 3ms/step - loss: 0.3938 - accuracy: 0.8583\n",
            "Epoch 61/200\n",
            "24/24 [==============================] - 0s 3ms/step - loss: 0.3306 - accuracy: 0.9083\n",
            "Epoch 62/200\n",
            "24/24 [==============================] - 0s 3ms/step - loss: 0.3915 - accuracy: 0.8667\n",
            "Epoch 63/200\n",
            "24/24 [==============================] - 0s 4ms/step - loss: 0.3449 - accuracy: 0.8833\n",
            "Epoch 64/200\n",
            "24/24 [==============================] - 0s 4ms/step - loss: 0.3563 - accuracy: 0.8750\n",
            "Epoch 65/200\n",
            "24/24 [==============================] - 0s 3ms/step - loss: 0.3165 - accuracy: 0.8667\n",
            "Epoch 66/200\n",
            "24/24 [==============================] - 0s 4ms/step - loss: 0.3770 - accuracy: 0.8500\n",
            "Epoch 67/200\n",
            "24/24 [==============================] - 0s 3ms/step - loss: 0.2877 - accuracy: 0.9333\n",
            "Epoch 68/200\n",
            "24/24 [==============================] - 0s 3ms/step - loss: 0.3400 - accuracy: 0.9083\n",
            "Epoch 69/200\n",
            "24/24 [==============================] - 0s 4ms/step - loss: 0.3088 - accuracy: 0.9000\n",
            "Epoch 70/200\n",
            "24/24 [==============================] - 0s 4ms/step - loss: 0.3138 - accuracy: 0.9083\n",
            "Epoch 71/200\n",
            "24/24 [==============================] - 0s 3ms/step - loss: 0.3022 - accuracy: 0.8917\n",
            "Epoch 72/200\n",
            "24/24 [==============================] - 0s 3ms/step - loss: 0.2937 - accuracy: 0.8833\n",
            "Epoch 73/200\n",
            "24/24 [==============================] - 0s 3ms/step - loss: 0.3054 - accuracy: 0.8583\n",
            "Epoch 74/200\n",
            "24/24 [==============================] - 0s 3ms/step - loss: 0.3279 - accuracy: 0.8917\n",
            "Epoch 75/200\n",
            "24/24 [==============================] - 0s 3ms/step - loss: 0.3183 - accuracy: 0.8917\n",
            "Epoch 76/200\n",
            "24/24 [==============================] - 0s 3ms/step - loss: 0.3071 - accuracy: 0.9083\n",
            "Epoch 77/200\n",
            "24/24 [==============================] - 0s 4ms/step - loss: 0.3227 - accuracy: 0.9250\n",
            "Epoch 78/200\n",
            "24/24 [==============================] - 0s 3ms/step - loss: 0.2883 - accuracy: 0.9083\n",
            "Epoch 79/200\n",
            "24/24 [==============================] - 0s 4ms/step - loss: 0.3432 - accuracy: 0.8917\n",
            "Epoch 80/200\n",
            "24/24 [==============================] - 0s 3ms/step - loss: 0.3050 - accuracy: 0.9083\n",
            "Epoch 81/200\n",
            "24/24 [==============================] - 0s 4ms/step - loss: 0.3525 - accuracy: 0.8500\n",
            "Epoch 82/200\n",
            "24/24 [==============================] - 0s 3ms/step - loss: 0.2436 - accuracy: 0.9333\n",
            "Epoch 83/200\n",
            "24/24 [==============================] - 0s 3ms/step - loss: 0.2859 - accuracy: 0.9250\n",
            "Epoch 84/200\n",
            "24/24 [==============================] - 0s 3ms/step - loss: 0.3302 - accuracy: 0.8417\n",
            "Epoch 85/200\n",
            "24/24 [==============================] - 0s 4ms/step - loss: 0.3018 - accuracy: 0.9000\n",
            "Epoch 86/200\n",
            "24/24 [==============================] - 0s 3ms/step - loss: 0.3745 - accuracy: 0.8833\n",
            "Epoch 87/200\n",
            "24/24 [==============================] - 0s 3ms/step - loss: 0.3130 - accuracy: 0.8583\n",
            "Epoch 88/200\n",
            "24/24 [==============================] - 0s 4ms/step - loss: 0.2621 - accuracy: 0.9250\n",
            "Epoch 89/200\n",
            "24/24 [==============================] - 0s 4ms/step - loss: 0.2306 - accuracy: 0.9333\n",
            "Epoch 90/200\n",
            "24/24 [==============================] - 0s 4ms/step - loss: 0.2790 - accuracy: 0.9083\n",
            "Epoch 91/200\n",
            "24/24 [==============================] - 0s 3ms/step - loss: 0.2827 - accuracy: 0.9333\n",
            "Epoch 92/200\n",
            "24/24 [==============================] - 0s 4ms/step - loss: 0.2850 - accuracy: 0.9167\n",
            "Epoch 93/200\n",
            "24/24 [==============================] - 0s 3ms/step - loss: 0.2767 - accuracy: 0.9167\n",
            "Epoch 94/200\n",
            "24/24 [==============================] - 0s 3ms/step - loss: 0.2534 - accuracy: 0.8917\n",
            "Epoch 95/200\n",
            "24/24 [==============================] - 0s 3ms/step - loss: 0.3514 - accuracy: 0.8667\n",
            "Epoch 96/200\n",
            "24/24 [==============================] - 0s 4ms/step - loss: 0.2994 - accuracy: 0.8750\n",
            "Epoch 97/200\n",
            "24/24 [==============================] - 0s 4ms/step - loss: 0.2296 - accuracy: 0.9333\n",
            "Epoch 98/200\n",
            "24/24 [==============================] - 0s 3ms/step - loss: 0.2944 - accuracy: 0.9083\n",
            "Epoch 99/200\n",
            "24/24 [==============================] - 0s 4ms/step - loss: 0.2813 - accuracy: 0.9083\n",
            "Epoch 100/200\n",
            "24/24 [==============================] - 0s 3ms/step - loss: 0.2379 - accuracy: 0.9500\n",
            "Epoch 101/200\n",
            "24/24 [==============================] - 0s 4ms/step - loss: 0.3034 - accuracy: 0.9000\n",
            "Epoch 102/200\n",
            "24/24 [==============================] - 0s 3ms/step - loss: 0.3050 - accuracy: 0.8917\n",
            "Epoch 103/200\n",
            "24/24 [==============================] - 0s 4ms/step - loss: 0.2635 - accuracy: 0.9000\n",
            "Epoch 104/200\n",
            "24/24 [==============================] - 0s 3ms/step - loss: 0.2311 - accuracy: 0.9500\n",
            "Epoch 105/200\n",
            "24/24 [==============================] - 0s 3ms/step - loss: 0.2384 - accuracy: 0.9417\n",
            "Epoch 106/200\n",
            "24/24 [==============================] - 0s 4ms/step - loss: 0.2862 - accuracy: 0.9250\n",
            "Epoch 107/200\n",
            "24/24 [==============================] - 0s 4ms/step - loss: 0.2365 - accuracy: 0.9333\n",
            "Epoch 108/200\n",
            "24/24 [==============================] - 0s 3ms/step - loss: 0.2658 - accuracy: 0.9083\n",
            "Epoch 109/200\n",
            "24/24 [==============================] - 0s 3ms/step - loss: 0.2568 - accuracy: 0.9333\n",
            "Epoch 110/200\n",
            "24/24 [==============================] - 0s 3ms/step - loss: 0.2610 - accuracy: 0.9417\n",
            "Epoch 111/200\n",
            "24/24 [==============================] - 0s 3ms/step - loss: 0.2518 - accuracy: 0.9167\n",
            "Epoch 112/200\n",
            "24/24 [==============================] - 0s 3ms/step - loss: 0.2629 - accuracy: 0.9250\n",
            "Epoch 113/200\n",
            "24/24 [==============================] - 0s 4ms/step - loss: 0.2501 - accuracy: 0.9583\n",
            "Epoch 114/200\n",
            "24/24 [==============================] - 0s 3ms/step - loss: 0.2306 - accuracy: 0.9333\n",
            "Epoch 115/200\n",
            "24/24 [==============================] - 0s 3ms/step - loss: 0.2319 - accuracy: 0.9250\n",
            "Epoch 116/200\n",
            "24/24 [==============================] - 0s 3ms/step - loss: 0.1989 - accuracy: 0.9417\n",
            "Epoch 117/200\n",
            "24/24 [==============================] - 0s 3ms/step - loss: 0.2446 - accuracy: 0.9167\n",
            "Epoch 118/200\n",
            "24/24 [==============================] - 0s 3ms/step - loss: 0.2375 - accuracy: 0.9167\n",
            "Epoch 119/200\n",
            "24/24 [==============================] - 0s 3ms/step - loss: 0.2263 - accuracy: 0.9333\n",
            "Epoch 120/200\n",
            "24/24 [==============================] - 0s 3ms/step - loss: 0.2889 - accuracy: 0.8917\n",
            "Epoch 121/200\n",
            "24/24 [==============================] - 0s 4ms/step - loss: 0.2934 - accuracy: 0.9167\n",
            "Epoch 122/200\n",
            "24/24 [==============================] - 0s 4ms/step - loss: 0.2112 - accuracy: 0.9417\n",
            "Epoch 123/200\n",
            "24/24 [==============================] - 0s 4ms/step - loss: 0.2629 - accuracy: 0.9167\n",
            "Epoch 124/200\n",
            "24/24 [==============================] - 0s 4ms/step - loss: 0.1557 - accuracy: 0.9667\n",
            "Epoch 125/200\n",
            "24/24 [==============================] - 0s 3ms/step - loss: 0.2259 - accuracy: 0.9417\n",
            "Epoch 126/200\n",
            "24/24 [==============================] - 0s 3ms/step - loss: 0.2794 - accuracy: 0.9250\n",
            "Epoch 127/200\n",
            "24/24 [==============================] - 0s 3ms/step - loss: 0.2437 - accuracy: 0.9417\n",
            "Epoch 128/200\n",
            "24/24 [==============================] - 0s 4ms/step - loss: 0.2099 - accuracy: 0.9500\n",
            "Epoch 129/200\n",
            "24/24 [==============================] - 0s 4ms/step - loss: 0.2454 - accuracy: 0.9417\n",
            "Epoch 130/200\n",
            "24/24 [==============================] - 0s 3ms/step - loss: 0.2265 - accuracy: 0.9417\n",
            "Epoch 131/200\n",
            "24/24 [==============================] - 0s 3ms/step - loss: 0.2163 - accuracy: 0.9333\n",
            "Epoch 132/200\n",
            "24/24 [==============================] - 0s 3ms/step - loss: 0.1795 - accuracy: 0.9500\n",
            "Epoch 133/200\n",
            "24/24 [==============================] - 0s 4ms/step - loss: 0.2881 - accuracy: 0.9000\n",
            "Epoch 134/200\n",
            "24/24 [==============================] - 0s 3ms/step - loss: 0.2055 - accuracy: 0.9417\n",
            "Epoch 135/200\n",
            "24/24 [==============================] - 0s 4ms/step - loss: 0.2386 - accuracy: 0.9333\n",
            "Epoch 136/200\n",
            "24/24 [==============================] - 0s 4ms/step - loss: 0.2161 - accuracy: 0.9167\n",
            "Epoch 137/200\n",
            "24/24 [==============================] - 0s 3ms/step - loss: 0.2142 - accuracy: 0.9500\n",
            "Epoch 138/200\n",
            "24/24 [==============================] - 0s 3ms/step - loss: 0.1997 - accuracy: 0.9333\n",
            "Epoch 139/200\n",
            "24/24 [==============================] - 0s 4ms/step - loss: 0.2680 - accuracy: 0.9000\n",
            "Epoch 140/200\n",
            "24/24 [==============================] - 0s 3ms/step - loss: 0.2355 - accuracy: 0.9167\n",
            "Epoch 141/200\n",
            "24/24 [==============================] - 0s 4ms/step - loss: 0.2548 - accuracy: 0.9083\n",
            "Epoch 142/200\n",
            "24/24 [==============================] - 0s 3ms/step - loss: 0.1910 - accuracy: 0.9417\n",
            "Epoch 143/200\n",
            "24/24 [==============================] - 0s 3ms/step - loss: 0.2173 - accuracy: 0.9167\n",
            "Epoch 144/200\n",
            "24/24 [==============================] - 0s 5ms/step - loss: 0.2961 - accuracy: 0.8750\n",
            "Epoch 145/200\n",
            "24/24 [==============================] - 0s 3ms/step - loss: 0.2650 - accuracy: 0.9000\n",
            "Epoch 146/200\n",
            "24/24 [==============================] - 0s 4ms/step - loss: 0.2260 - accuracy: 0.9583\n",
            "Epoch 147/200\n",
            "24/24 [==============================] - 0s 3ms/step - loss: 0.2356 - accuracy: 0.9417\n",
            "Epoch 148/200\n",
            "24/24 [==============================] - 0s 4ms/step - loss: 0.2766 - accuracy: 0.9250\n",
            "Epoch 149/200\n",
            "24/24 [==============================] - 0s 3ms/step - loss: 0.2159 - accuracy: 0.9500\n",
            "Epoch 150/200\n",
            "24/24 [==============================] - 0s 4ms/step - loss: 0.1969 - accuracy: 0.9417\n",
            "Epoch 151/200\n",
            "24/24 [==============================] - 0s 3ms/step - loss: 0.2676 - accuracy: 0.8833\n",
            "Epoch 152/200\n",
            "24/24 [==============================] - 0s 4ms/step - loss: 0.2146 - accuracy: 0.9500\n",
            "Epoch 153/200\n",
            "24/24 [==============================] - 0s 4ms/step - loss: 0.2520 - accuracy: 0.9000\n",
            "Epoch 154/200\n",
            "24/24 [==============================] - 0s 4ms/step - loss: 0.2084 - accuracy: 0.9250\n",
            "Epoch 155/200\n",
            "24/24 [==============================] - 0s 3ms/step - loss: 0.1657 - accuracy: 0.9583\n",
            "Epoch 156/200\n",
            "24/24 [==============================] - 0s 3ms/step - loss: 0.2661 - accuracy: 0.9000\n",
            "Epoch 157/200\n",
            "24/24 [==============================] - 0s 4ms/step - loss: 0.2691 - accuracy: 0.9250\n",
            "Epoch 158/200\n",
            "24/24 [==============================] - 0s 3ms/step - loss: 0.2172 - accuracy: 0.9583\n",
            "Epoch 159/200\n",
            "24/24 [==============================] - 0s 3ms/step - loss: 0.2090 - accuracy: 0.9500\n",
            "Epoch 160/200\n",
            "24/24 [==============================] - 0s 3ms/step - loss: 0.2302 - accuracy: 0.9333\n",
            "Epoch 161/200\n",
            "24/24 [==============================] - 0s 4ms/step - loss: 0.2353 - accuracy: 0.9167\n",
            "Epoch 162/200\n",
            "24/24 [==============================] - 0s 3ms/step - loss: 0.1528 - accuracy: 0.9750\n",
            "Epoch 163/200\n",
            "24/24 [==============================] - 0s 3ms/step - loss: 0.1957 - accuracy: 0.9333\n",
            "Epoch 164/200\n",
            "24/24 [==============================] - 0s 3ms/step - loss: 0.1750 - accuracy: 0.9667\n",
            "Epoch 165/200\n",
            "24/24 [==============================] - 0s 4ms/step - loss: 0.2679 - accuracy: 0.8917\n",
            "Epoch 166/200\n",
            "24/24 [==============================] - 0s 3ms/step - loss: 0.1893 - accuracy: 0.9417\n",
            "Epoch 167/200\n",
            "24/24 [==============================] - 0s 3ms/step - loss: 0.2613 - accuracy: 0.9167\n",
            "Epoch 168/200\n",
            "24/24 [==============================] - 0s 4ms/step - loss: 0.2039 - accuracy: 0.9500\n",
            "Epoch 169/200\n",
            "24/24 [==============================] - 0s 3ms/step - loss: 0.2212 - accuracy: 0.9250\n",
            "Epoch 170/200\n",
            "24/24 [==============================] - 0s 3ms/step - loss: 0.2344 - accuracy: 0.8917\n",
            "Epoch 171/200\n",
            "24/24 [==============================] - 0s 3ms/step - loss: 0.1801 - accuracy: 0.9417\n",
            "Epoch 172/200\n",
            "24/24 [==============================] - 0s 4ms/step - loss: 0.1933 - accuracy: 0.9250\n",
            "Epoch 173/200\n",
            "24/24 [==============================] - 0s 3ms/step - loss: 0.1992 - accuracy: 0.9500\n",
            "Epoch 174/200\n",
            "24/24 [==============================] - 0s 3ms/step - loss: 0.2307 - accuracy: 0.9333\n",
            "Epoch 175/200\n",
            "24/24 [==============================] - 0s 4ms/step - loss: 0.2301 - accuracy: 0.9083\n",
            "Epoch 176/200\n",
            "24/24 [==============================] - 0s 3ms/step - loss: 0.2364 - accuracy: 0.9083\n",
            "Epoch 177/200\n",
            "24/24 [==============================] - 0s 3ms/step - loss: 0.2193 - accuracy: 0.9000\n",
            "Epoch 178/200\n",
            "24/24 [==============================] - 0s 3ms/step - loss: 0.2342 - accuracy: 0.9083\n",
            "Epoch 179/200\n",
            "24/24 [==============================] - 0s 4ms/step - loss: 0.2389 - accuracy: 0.9000\n",
            "Epoch 180/200\n",
            "24/24 [==============================] - 0s 3ms/step - loss: 0.2309 - accuracy: 0.9167\n",
            "Epoch 181/200\n",
            "24/24 [==============================] - 0s 4ms/step - loss: 0.1622 - accuracy: 0.9417\n",
            "Epoch 182/200\n",
            "24/24 [==============================] - 0s 3ms/step - loss: 0.1880 - accuracy: 0.9250\n",
            "Epoch 183/200\n",
            "24/24 [==============================] - 0s 3ms/step - loss: 0.2345 - accuracy: 0.9083\n",
            "Epoch 184/200\n",
            "24/24 [==============================] - 0s 3ms/step - loss: 0.2586 - accuracy: 0.9000\n",
            "Epoch 185/200\n",
            "24/24 [==============================] - 0s 4ms/step - loss: 0.1704 - accuracy: 0.9417\n",
            "Epoch 186/200\n",
            "24/24 [==============================] - 0s 4ms/step - loss: 0.2087 - accuracy: 0.9417\n",
            "Epoch 187/200\n",
            "24/24 [==============================] - 0s 3ms/step - loss: 0.2325 - accuracy: 0.9167\n",
            "Epoch 188/200\n",
            "24/24 [==============================] - 0s 3ms/step - loss: 0.2518 - accuracy: 0.9083\n",
            "Epoch 189/200\n",
            "24/24 [==============================] - 0s 4ms/step - loss: 0.2171 - accuracy: 0.9167\n",
            "Epoch 190/200\n",
            "24/24 [==============================] - 0s 3ms/step - loss: 0.2409 - accuracy: 0.8917\n",
            "Epoch 191/200\n",
            "24/24 [==============================] - 0s 3ms/step - loss: 0.2316 - accuracy: 0.9083\n",
            "Epoch 192/200\n",
            "24/24 [==============================] - 0s 3ms/step - loss: 0.1884 - accuracy: 0.9500\n",
            "Epoch 193/200\n",
            "24/24 [==============================] - 0s 4ms/step - loss: 0.1671 - accuracy: 0.9333\n",
            "Epoch 194/200\n",
            "24/24 [==============================] - 0s 4ms/step - loss: 0.2037 - accuracy: 0.9417\n",
            "Epoch 195/200\n",
            "24/24 [==============================] - 0s 3ms/step - loss: 0.1680 - accuracy: 0.9667\n",
            "Epoch 196/200\n",
            "24/24 [==============================] - 0s 4ms/step - loss: 0.2368 - accuracy: 0.9167\n",
            "Epoch 197/200\n",
            "24/24 [==============================] - 0s 4ms/step - loss: 0.2021 - accuracy: 0.9333\n",
            "Epoch 198/200\n",
            "24/24 [==============================] - 0s 4ms/step - loss: 0.2727 - accuracy: 0.9000\n",
            "Epoch 199/200\n",
            "24/24 [==============================] - 0s 3ms/step - loss: 0.1821 - accuracy: 0.9667\n",
            "Epoch 200/200\n",
            "24/24 [==============================] - 0s 4ms/step - loss: 0.2022 - accuracy: 0.9083\n"
          ]
        }
      ],
      "source": [
        "# Train the model\n",
        "history = model.fit(train_x,train_y,epochs=200,batch_size=5)"
      ]
    },
    {
      "cell_type": "markdown",
      "metadata": {
        "id": "0dc2gU_LgQPp"
      },
      "source": [
        "# <div style=\"direction:rtl;text-align:right;font-family:B Lotus, B Nazanin, Tahoma\">سوال 4:</div>\n",
        "<div style=\"direction:rtl;text-align:right;font-family:Tahoma\">\n",
        "مدل را روی داده های test ارزیابی کنید.\n",
        "<br>\n",
        "<b>راهنمایی: </b>\n",
        "از تابع model.evaluate استفاده کنید.\n",
        "</div>"
      ]
    },
    {
      "cell_type": "code",
      "execution_count": 40,
      "metadata": {
        "id": "Lo-HKjpKgQPp",
        "outputId": "737a534a-d922-4638-e990-52922544a334",
        "colab": {
          "base_uri": "https://localhost:8080/"
        }
      },
      "outputs": [
        {
          "output_type": "stream",
          "name": "stdout",
          "text": [
            "1/1 [==============================] - 0s 250ms/step - loss: 0.1544 - accuracy: 0.9667\n",
            "Final test set loss: 0.154447\n",
            "Final test set accuracy: 0.966667\n"
          ]
        }
      ],
      "source": [
        "# Test on unseen data\n",
        "results = model.evaluate(test_x, test_y)\n",
        "\n",
        "print('Final test set loss: {:4f}'.format(results[0]))\n",
        "print('Final test set accuracy: {:4f}'.format(results[1]))"
      ]
    },
    {
      "cell_type": "markdown",
      "metadata": {
        "id": "GijRj1-hgQPq"
      },
      "source": [
        "<div class=\"alert alert-block alert-info\">\n",
        "<div style=\"direction:rtl;text-align:right;font-family:B Lotus, B Nazanin, Tahoma\"> دوره مقدماتی یادگیری عمیق<br>علیرضا اخوان پور<br>پنج شنبه، ۱۸ و ۲۵ بهمن ۱۳۹۷<br>\n",
        "</div>\n",
        "<a href=\"http://class.vision\">Class.Vision</a> - <a href=\"http://AkhavanPour.ir\">AkhavanPour.ir</a> - <a href=\"https://github.com/Alireza-Akhavan/\">GitHub</a>\n",
        "\n",
        "</div>"
      ]
    }
  ],
  "metadata": {
    "kernelspec": {
      "display_name": "tensorflow",
      "language": "python",
      "name": "tensorflow"
    },
    "language_info": {
      "codemirror_mode": {
        "name": "ipython",
        "version": 3
      },
      "file_extension": ".py",
      "mimetype": "text/x-python",
      "name": "python",
      "nbconvert_exporter": "python",
      "pygments_lexer": "ipython3",
      "version": "3.6.8"
    },
    "colab": {
      "name": "ex1-mlp-iris.ipynb",
      "provenance": []
    },
    "accelerator": "GPU"
  },
  "nbformat": 4,
  "nbformat_minor": 0
}